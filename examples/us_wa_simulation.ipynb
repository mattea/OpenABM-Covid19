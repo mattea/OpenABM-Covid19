{
  "nbformat": 4,
  "nbformat_minor": 0,
  "metadata": {
    "colab": {
      "name": "us-wa_simulation.ipynb",
      "provenance": [],
      "collapsed_sections": []
    },
    "kernelspec": {
      "name": "python3",
      "display_name": "Python 3"
    }
  },
  "cells": [
    {
      "cell_type": "code",
      "metadata": {
        "id": "z1v-i9qbUhQf",
        "colab_type": "code",
        "colab": {}
      },
      "source": [
        "#@title File Locations\n",
        "base_dir = \"\" #@param {type:\"string\"}\n",
        "state_param_file = \"data/us-wa/wa_state_parameters_transpose.csv\" #@param {type:\"string\"}\n",
        "county_households_file = \"data/us-wa/wa_county_household_demographics.csv\" #@param {type:\"string\"}\n",
        "county_params_file = \"data/us-wa/wa_county_parameters.csv\" #@param {type:\"string\"}\n",
        "import os\n",
        "if base_dir:\n",
        "  state_param_file = os.path.join(base_dir, state_param_file)\n",
        "  county_households_file = os.path.join(base_dir, county_households_file)\n",
        "  county_params_file = os.path.join(base_dir, county_params_file)"
      ],
      "execution_count": 11,
      "outputs": []
    },
    {
      "cell_type": "code",
      "metadata": {
        "id": "cGN1ccj8URJP",
        "colab_type": "code",
        "colab": {}
      },
      "source": [
        "import collections\n",
        "import sys\n",
        "import example_utils as utils\n",
        "import pandas as pd\n",
        "import numpy as np\n",
        "import csv\n",
        "LOCAL_PARAMS = set([\"county_fips\", \"lockdown_days\", \"app_turned_on\"])\n",
        "\n",
        "def bucket_to_age(b):\n",
        "  return int(b.split(\"_\")[1]) // 10\n",
        "\n",
        "def read_param_file(file_name):\n",
        "  params = {}\n",
        "  pf = pd.read_csv(file_name,skipinitialspace=True, comment=\"#\")\n",
        "  if \"transpose\" in file_name:\n",
        "    for row in pf.itertuples():\n",
        "      params[row.parameter_name] = row.parameter_value\n",
        "  else:\n",
        "    for row in pf.itertuples():\n",
        "      params.update(row.as_dict())\n",
        "  return params\n",
        "\n",
        "def read_param_files(file_names):\n",
        "  params = {}\n",
        "  for f in file_names:\n",
        "    params.update(read_param_file(f))\n",
        "  return params\n",
        "\n",
        "def build_population(params_dict, houses):\n",
        "  IDs = np.arange( params_dict[\"n_total\"], dtype='int32')\n",
        "  house_no = np.zeros( IDs.shape, dtype='int32' )\n",
        "  ages     = np.zeros( IDs.shape , dtype='int32' )\n",
        "  idx = 0\n",
        "  house_idx = 0\n",
        "  for house in houses.itertuples():\n",
        "    house_pop = 0\n",
        "    for col in houses.columns:\n",
        "      if col.startswith(\"a_\"):\n",
        "        age = bucket_to_age(col)\n",
        "        cnt = int(getattr(house,col))\n",
        "        if cnt == 0:\n",
        "          continue\n",
        "        house_pop += cnt\n",
        "        house_no[idx:idx+cnt] = house_idx\n",
        "        ages[idx:idx+cnt] = age\n",
        "        idx += cnt\n",
        "    if house_pop != 0:\n",
        "      house_idx += 1\n",
        "  return pd.DataFrame({'ID':IDs, 'age_group':ages, 'house_no':house_no})\n",
        "\n",
        "def run_model(params_dict, houses):\n",
        "  total_days_left = int(params_dict['end_time'])\n",
        "\n",
        "  params  = utils.get_baseline_parameters()\n",
        "  for p, v in params_dict.items():\n",
        "    if p in LOCAL_PARAMS:\n",
        "      continue\n",
        "    if isinstance(v, np.int64) or (hasattr(v, \"is_integer\") and v.is_integer()):\n",
        "      params.set_param( p, int(v) )\n",
        "    else:\n",
        "      params.set_param( p, v )\n",
        "  params.set_demographic_household_table( build_population(params_dict, houses) )\n",
        "  model = utils.get_simulation( params ).env.model\n",
        "\n",
        "  m_out = []\n",
        "  model.one_time_step()\n",
        "  m_out.append(model.one_time_step_results())\n",
        "  total_days_left -= 1\n",
        "  while m_out[-1][\"total_infected\"] < params_dict[\"n_total\"] * 0.01:\n",
        "      model.one_time_step()\n",
        "      m_out.append(model.one_time_step_results())\n",
        "      total_days_left -= 1\n",
        "\n",
        "  params_dict[\"time_offset\"] = params_dict['end_time'] - total_days_left\n",
        "\n",
        "  model.update_running_params(\"lockdown_on\", 1)\n",
        "          \n",
        "  for step in range(total_days_left):\n",
        "      if step == params_dict['lockdown_days']:\n",
        "          model.update_running_params(\"lockdown_on\", 0)\n",
        "          \n",
        "      model.one_time_step()\n",
        "      m_out.append(model.one_time_step_results())\n",
        "\n",
        "  df = pd.DataFrame( m_out )\n",
        "  m_out = []\n",
        "  del model\n",
        "  return params_dict, df\n",
        "\n",
        "def run_counties(county_params, all_households, params_files=[], params_overrides={}, counties=None):\n",
        "  if counties is None:\n",
        "    counties = county_params.county_fips.unique()\n",
        "  base_params = params_overrides\n",
        "  base_params.update(read_param_files(params_files))\n",
        "  outputs = []\n",
        "  for county in counties[:1]:\n",
        "    params = base_params.copy()\n",
        "    params.update(county_params[county_params[\"county_fips\"] == county].iloc[0])\n",
        "    households = all_households[all_households[\"county_fips\"] == county]\n",
        "    outputs.append(run_model(params, households))\n",
        "  return outputs"
      ],
      "execution_count": 15,
      "outputs": []
    },
    {
      "cell_type": "code",
      "metadata": {
        "id": "KRi_1hNWWfWX",
        "colab_type": "code",
        "colab": {}
      },
      "source": [
        "all_households = pd.read_csv(county_households_file)\n",
        "county_params = pd.read_csv(county_params_file)\n",
        "counties = county_params.county_fips.unique()l"
      ],
      "execution_count": 13,
      "outputs": []
    },
    {
      "cell_type": "code",
      "metadata": {
        "id": "QLvNEM6JZN2c",
        "colab_type": "code",
        "colab": {}
      },
      "source": [
        "local_params = {\n",
        "    \"lockdown_days\": 35,\n",
        "    \"app_turned_on\": 1,\n",
        "}"
      ],
      "execution_count": 17,
      "outputs": []
    },
    {
      "cell_type": "code",
      "metadata": {
        "id": "gr74PUU5Wd3-",
        "colab_type": "code",
        "colab": {}
      },
      "source": [
        "results = run_counties(county_params, all_households, params_files=[state_param_file], params_overrides=local_params, counties=counties[:1])"
      ],
      "execution_count": null,
      "outputs": []
    }
  ]
}