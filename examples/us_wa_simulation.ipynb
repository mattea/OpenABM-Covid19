{
  "nbformat": 4,
  "nbformat_minor": 0,
  "metadata": {
    "colab": {
      "name": "us-wa_simulation.ipynb",
      "provenance": [],
      "collapsed_sections": []
    },
    "kernelspec": {
      "name": "python3",
      "display_name": "Python 3"
    }
  },
  "cells": [
    {
      "cell_type": "code",
      "metadata": {
        "id": "z1v-i9qbUhQf",
        "colab_type": "code",
        "colab": {}
      },
      "source": [
        "#@title File Locations\n",
        "base_dir = \"\" #@param {type:\"string\"}\n",
        "state_param_file = \"data/us-wa/wa_state_parameters_transpose.csv\" #@param {type:\"string\"}\n",
        "county_households_file = \"data/us-wa/wa_county_household_demographics.csv\" #@param {type:\"string\"}\n",
        "county_params_file = \"data/us-wa/wa_county_parameters.csv\" #@param {type:\"string\"}\n",
        "county_occupation_file = \"data/us-wa/wa_county_occupation_networks.csv\"  #@param {type:\"string\"}\n",
        "import os\n",
        "if base_dir:\n",
        "  state_param_file = os.path.join(base_dir, state_param_file)\n",
        "  county_households_file = os.path.join(base_dir, county_households_file)\n",
        "  county_params_file = os.path.join(base_dir, county_params_file)\n",
        "  county_occupation_file = os.path.join(base_dir, county_occupation_file)"
      ],
      "execution_count": 1,
      "outputs": []
    },
    {
      "cell_type": "code",
      "metadata": {
        "id": "cGN1ccj8URJP",
        "colab_type": "code",
        "colab": {}
      },
      "source": [
        "import collections\n",
        "import sys\n",
        "import example_utils as utils\n",
        "import pandas as pd\n",
        "import numpy as np\n",
        "import csv\n",
        "LOCAL_PARAMS = set([\"county_fips\", \"lockdown_days\", \"app_turned_on\"])\n",
        "\n",
        "def bucket_to_age(b):\n",
        "  return int(b.split(\"_\")[1]) // 10\n",
        "\n",
        "def read_param_file(file_name):\n",
        "  params = {}\n",
        "  pf = pd.read_csv(file_name,skipinitialspace=True, comment=\"#\")\n",
        "  if \"transpose\" in file_name:\n",
        "    for row in pf.itertuples():\n",
        "      params[row.parameter_name] = row.parameter_value\n",
        "  else:\n",
        "    for row in pf.itertuples():\n",
        "      params.update(row.as_dict())\n",
        "  return params\n",
        "\n",
        "def read_param_files(file_names):\n",
        "  params = {}\n",
        "  for f in file_names:\n",
        "    params.update(read_param_file(f))\n",
        "  return params\n",
        "\n",
        "def build_population(params_dict, houses):\n",
        "  IDs = np.arange( params_dict[\"n_total\"], dtype='int32')\n",
        "  house_no = np.zeros( IDs.shape, dtype='int32' )\n",
        "  ages     = np.zeros( IDs.shape , dtype='int32' )\n",
        "  idx = 0\n",
        "  house_idx = 0\n",
        "  for house in houses.itertuples():\n",
        "    house_pop = 0\n",
        "    for col in houses.columns:\n",
        "      if col.startswith(\"a_\"):\n",
        "        age = bucket_to_age(col)\n",
        "        cnt = int(getattr(house,col))\n",
        "        if cnt == 0:\n",
        "          continue\n",
        "        house_pop += cnt\n",
        "        house_no[idx:idx+cnt] = house_idx\n",
        "        ages[idx:idx+cnt] = age\n",
        "        idx += cnt\n",
        "    if house_pop != 0:\n",
        "      house_idx += 1\n",
        "  return pd.DataFrame({'ID':IDs, 'age_group':ages, 'house_no':house_no})\n",
        "\n",
        "def read_county_occupation_network( county_fips, all_occupations ):\n",
        "  sector_df = all_occupations[all_occupations.area_fips == county_fips]\n",
        "  sector_name = sector_df['industry_code'].values\n",
        "  sector_size = sector_df['qrtly_emplvl'].values\n",
        "  sector_pdf = sector_size / np.sum( sector_size )\n",
        "  return list( sector_name ), list( sector_pdf )\n",
        "\n",
        "def get_mean_work_interaction( params, age_type ):\n",
        "  if age_type == 0:\n",
        "    return params.get_param( 'mean_work_interactions_child' )\n",
        "  elif age_type == 1:\n",
        "    return params.get_param( 'mean_work_interactions_adult' )\n",
        "  elif age_type == 2:\n",
        "    return params.get_param( 'mean_work_interactions_elderly' )\n",
        "  else:\n",
        "    raise ValueError( 'not supported age type' )\n",
        "\n",
        "def get_lockdown_multipliers( params, n_networks ):\n",
        "  # For now, just use default lockdown_multipliers.\n",
        "  lockdown_multiplier = np.ones( n_networks ) * params.get_param('lockdown_occupation_multiplier_working_network')\n",
        "  lockdown_multiplier[0] = params.get_param('lockdown_occupation_multiplier_primary_network')\n",
        "  lockdown_multiplier[1] = params.get_param('lockdown_occupation_multiplier_secondary_network')\n",
        "  lockdown_multiplier[-2] = params.get_param('lockdown_occupation_multiplier_retired_network')\n",
        "  lockdown_multiplier[-1] = params.get_param('lockdown_occupation_multiplier_elderly_network')\n",
        "  return lockdown_multiplier\n",
        "\n",
        "def build_occupation_networks( params, sector_names, n_child_network=2, n_elderly_network=2 ):\n",
        "  n_networks = n_child_network + len( sector_names ) + n_elderly_network\n",
        "  network_no = np.arange( n_networks, dtype='int32' )\n",
        "  network_names = ['primary', 'secondary'] + sector_names + ['retired', 'elderly']\n",
        "  age_types = np.ones( n_networks )\n",
        "  age_types[:2] = 0 # child\n",
        "  age_types[-2:] = 2 # elderly\n",
        "  mean_work_interactions = map( lambda x: get_mean_work_interaction(params, x), \n",
        "                                age_types )\n",
        "                                              \n",
        "  return pd.DataFrame({\n",
        "      'network_no': network_no,\n",
        "      'age_type': age_types,\n",
        "      'mean_work_interaction': mean_work_interactions,\n",
        "      'lockdown_multiplier': get_lockdown_multipliers( params, n_networks ),\n",
        "      'network_id' : network_no,\n",
        "      'network_name': network_names\n",
        "  })\n",
        "\n",
        "def build_occupation_assignment(household_df, network_df, network_pdf):\n",
        "  IDs = household_df.ID.values\n",
        "  age_groups = household_df.age_group.values\n",
        "\n",
        "  # assign adult workplace networks\n",
        "  sector_ids = network_df[network_df.age_type == 1].network_no.values\n",
        "  assignment = np.random.choice(sector_ids, len(IDs), p=network_pdf)\n",
        "\n",
        "  # assign child and elderly networks\n",
        "  assignment[age_groups == 0] = 0 # primary_network\n",
        "  assignment[age_groups == 1] = 1 # secondary_network\n",
        "  assignment[age_groups == 7] = np.max(sector_ids) + 1 # retired_network\n",
        "  assignment[age_groups == 8] = np.max(sector_ids) + 2 # elderly_network\n",
        "\n",
        "  return pd.DataFrame({'ID': IDs, 'network_no': assignment})\n",
        "\n",
        "def run_model(params_dict, houses, sector_names, sector_pdf, custom_occu_network ):\n",
        "  total_days_left = int(params_dict['end_time'])\n",
        "\n",
        "  params  = utils.get_baseline_parameters()\n",
        "  for p, v in params_dict.items():\n",
        "    if p == 'manual_trace_n_workers':\n",
        "      continue\n",
        "    if p in LOCAL_PARAMS:\n",
        "      continue\n",
        "    if isinstance(v, np.int64) or (hasattr(v, \"is_integer\") and v.is_integer()):\n",
        "      params.set_param( p, int(v) )\n",
        "    else:\n",
        "      params.set_param( p, v )\n",
        "  \n",
        "  hh_df = build_population( params_dict, houses )\n",
        "  params.set_demographic_household_table( hh_df )\n",
        "  if custom_occu_network:\n",
        "    occupation_network_df = build_occupation_networks( params, \n",
        "                                                       sector_names )\n",
        "  \n",
        "    occupation_assignment = build_occupation_assignment( hh_df, \n",
        "                                                         occupation_network_df, \n",
        "                                                         sector_pdf )\n",
        "    params.set_occupation_network_table( occupation_assignment, \n",
        "                                         occupation_network_df )\n",
        "\n",
        "  model = utils.get_simulation( params ).env.model\n",
        "\n",
        "  m_out = []\n",
        "  model.one_time_step()\n",
        "  m_out.append(model.one_time_step_results())\n",
        "  total_days_left -= 1\n",
        "  while m_out[-1][\"total_infected\"] < params_dict[\"n_total\"] * 0.01:\n",
        "      model.one_time_step()\n",
        "      m_out.append(model.one_time_step_results())\n",
        "      total_days_left -= 1\n",
        "\n",
        "  params_dict[\"time_offset\"] = params_dict['end_time'] - total_days_left\n",
        "\n",
        "  model.update_running_params(\"lockdown_on\", 1)\n",
        "          \n",
        "  for step in range(total_days_left):\n",
        "      if step == params_dict['lockdown_days']:\n",
        "          model.update_running_params(\"lockdown_on\", 0)\n",
        "          \n",
        "      model.one_time_step()\n",
        "      m_out.append(model.one_time_step_results())\n",
        "\n",
        "  df = pd.DataFrame( m_out )\n",
        "  m_out = []\n",
        "  del model\n",
        "  return params_dict, df\n",
        "\n",
        "def run_counties(county_params, all_households, all_occupations, params_files=[], params_overrides={}, counties=None, custom_occu_network=True):\n",
        "  if counties is None:\n",
        "    counties = county_params.county_fips.unique()\n",
        "  base_params = params_overrides\n",
        "  base_params.update(read_param_files(params_files))\n",
        "  outputs = []\n",
        "  for county in counties[:1]:\n",
        "    params = base_params.copy()\n",
        "    params.update(county_params[county_params[\"county_fips\"] == county].iloc[0])\n",
        "    households = all_households[all_households[\"county_fips\"] == county]\n",
        "    sector_names, sector_pdf = read_county_occupation_network(county, all_occupations)\n",
        "    outputs.append(run_model(params, households, sector_names, sector_pdf, custom_occu_network))\n",
        "  return outputs"
      ],
      "execution_count": 41,
      "outputs": []
    },
    {
      "cell_type": "code",
      "metadata": {
        "id": "KRi_1hNWWfWX",
        "colab_type": "code",
        "colab": {}
      },
      "source": [
        "all_households = pd.read_csv(county_households_file)\n",
        "county_params = pd.read_csv(county_params_file)\n",
        "counties = county_params.county_fips.unique()\n",
        "all_occupations = pd.read_csv(county_occupation_file)"
      ],
      "execution_count": 4,
      "outputs": []
    },
    {
      "cell_type": "code",
      "metadata": {
        "id": "QLvNEM6JZN2c",
        "colab_type": "code",
        "colab": {}
      },
      "source": [
        "local_params = {\n",
        "    \"lockdown_days\": 35,\n",
        "    \"app_turned_on\": 1,\n",
        "}"
      ],
      "execution_count": 5,
      "outputs": []
    },
    {
      "cell_type": "code",
      "metadata": {
        "id": "gr74PUU5Wd3-",
        "colab_type": "code",
        "colab": {}
      },
      "source": [
        "results_default = run_counties(county_params, all_households, all_occupations, params_files=[state_param_file], params_overrides=local_params, counties=counties[:1], custom_occu_network=False)\n",
        "results_custom_occu = run_counties(county_params, all_households, all_occupations, params_files=[state_param_file], params_overrides=local_params, counties=counties[:1], custom_occu_network=True)"
      ],
      "execution_count": 42,
      "outputs": []
    },
    {
      "cell_type": "code",
      "metadata": {
        "id": "ZHKVxi5bJN5q",
        "colab_type": "code",
        "colab": {
          "base_uri": "https://localhost:8080/",
          "height": 296
        },
        "outputId": "a87cd6a6-c795-456e-d6cc-d5b9619387cd"
      },
      "source": [
        "results_default[0][1].plot(x='time', y='total_infected')"
      ],
      "execution_count": 43,
      "outputs": [
        {
          "output_type": "execute_result",
          "data": {
            "text/plain": [
              "<matplotlib.axes._subplots.AxesSubplot at 0x7f90addded50>"
            ]
          },
          "metadata": {
            "tags": []
          },
          "execution_count": 43
        },
        {
          "output_type": "display_data",
          "data": {
            "text/plain": [
              "<Figure size 432x288 with 1 Axes>"
            ],
            "image/png": "[encoded data removed]"
          },
          "metadata": {
            "tags": [],
            "needs_background": "light"
          }
        }
      ]
    },
    {
      "cell_type": "code",
      "metadata": {
        "id": "MjtS--79Kypk",
        "colab_type": "code",
        "colab": {
          "base_uri": "https://localhost:8080/",
          "height": 296
        },
        "outputId": "571a5826-4509-4438-d435-67d004106d1d"
      },
      "source": [
        "results_custom_occu[0][1].plot(x='time', y='total_infected')"
      ],
      "execution_count": 44,
      "outputs": [
        {
          "output_type": "execute_result",
          "data": {
            "text/plain": [
              "<matplotlib.axes._subplots.AxesSubplot at 0x7f90adb06450>"
            ]
          },
          "metadata": {
            "tags": []
          },
          "execution_count": 44
        },
        {
          "output_type": "display_data",
          "data": {
            "text/plain": [
              "<Figure size 432x288 with 1 Axes>"
            ],
            "image/png": "[encoded data removed]"
          },
          "metadata": {
            "tags": [],
            "needs_background": "light"
          }
        }
      ]
    },
    {
      "cell_type": "code",
      "metadata": {
        "id": "BIQVMWbYOIfp",
        "colab_type": "code",
        "colab": {
          "base_uri": "https://localhost:8080/",
          "height": 119
        },
        "outputId": "39d79d30-275f-4485-96d6-775855f71c64"
      },
      "source": [
        "np.where(results_default[0][1].lockdown == 1), np.where(results_custom_occu[0][1].lockdown == 1)"
      ],
      "execution_count": 45,
      "outputs": [
        {
          "output_type": "execute_result",
          "data": {
            "text/plain": [
              "((array([33, 34, 35, 36, 37, 38, 39, 40, 41, 42, 43, 44, 45, 46, 47, 48, 49,\n",
              "         50, 51, 52, 53, 54, 55, 56, 57, 58, 59, 60, 61, 62, 63, 64, 65, 66,\n",
              "         67]),),\n",
              " (array([53, 54, 55, 56, 57, 58, 59, 60, 61, 62, 63, 64, 65, 66, 67, 68, 69,\n",
              "         70, 71, 72, 73, 74, 75, 76, 77, 78, 79, 80, 81, 82, 83, 84, 85, 86,\n",
              "         87]),))"
            ]
          },
          "metadata": {
            "tags": []
          },
          "execution_count": 45
        }
      ]
    }
  ]
}
